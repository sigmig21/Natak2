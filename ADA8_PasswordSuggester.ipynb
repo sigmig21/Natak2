{
  "cells": [
    {
      "cell_type": "code",
      "execution_count": 1,
      "id": "45083803-5b6f-49bd-ae02-87e3fbb05e9b",
      "metadata": {
        "colab": {
          "base_uri": "https://localhost:8080/"
        },
        "id": "45083803-5b6f-49bd-ae02-87e3fbb05e9b",
        "outputId": "f086ee42-0431-4eb4-9096-b1bcb924c394"
      },
      "outputs": [
        {
          "output_type": "stream",
          "name": "stdout",
          "text": [
            "Enter a password: Wilherick/12\n",
            "Your password is classified as: Moderate\n",
            "\n",
            "Suggested Passwords:\n",
            "Wilherick/12_\n",
            "Wilheric!k/12\n",
            "W^ilherick/12\n",
            ")Wilherick/12\n",
            "Wi(lherick/12\n"
          ]
        }
      ],
      "source": [
        "import random\n",
        "\n",
        "def insert(s, pos, ch):\n",
        "    return s[:pos] + ch + s[pos:]\n",
        "\n",
        "def add_char(s, need):\n",
        "\n",
        "    pos = 0\n",
        "    low_case = \"abcdefghijklmnopqrstuvwxyz\"\n",
        "\n",
        "    for i in range(need):\n",
        "        pos = random.randint(0, len(s))\n",
        "        s = insert(s, pos, low_case[random.randint(0, 25)])\n",
        "    return s\n",
        "\n",
        "def suggester(l, u, d, s, st):\n",
        "\n",
        "    num = '0123456789'\n",
        "    low_case = \"abcdefghijklmnopqrstuvwxyz\"\n",
        "    up_case = low_case.upper()\n",
        "    spl_char = '@#$_()!^&*'\n",
        "\n",
        "    if l == 0:\n",
        "        pos = random.randint(0, len(st))\n",
        "        st = insert(st, pos, low_case[random.randint(0, 25)])\n",
        "\n",
        "    if u == 0:\n",
        "        pos = random.randint(0, len(st))\n",
        "        st = insert(st, pos, up_case[random.randint(0, 25)])\n",
        "\n",
        "    if d == 0:\n",
        "        pos = random.randint(0, len(st))\n",
        "        st = insert(st, pos, num[random.randint(0, 9)])\n",
        "\n",
        "    if s == 0:\n",
        "        pos = random.randint(0, len(st))\n",
        "        st = insert(st, pos, spl_char[random.randint(0, len(spl_char)-1)])\n",
        "\n",
        "    return st\n",
        "\n",
        "def gen_password(n, p):\n",
        "\n",
        "    l = u = d = s = 0\n",
        "    strength = \"Very Weak\"\n",
        "\n",
        "    # Check password composition\n",
        "    for char in p:\n",
        "\n",
        "        if char.islower():\n",
        "            l = 1\n",
        "        elif char.isupper():\n",
        "            u = 1\n",
        "        elif char.isdigit():\n",
        "            d = 1\n",
        "        elif char in '@#$_()!^&*':\n",
        "            s = 1\n",
        "\n",
        "    # Classify password strength\n",
        "    if (l + u + d + s) == 4 and n >= 8:\n",
        "        strength = \"Strong\"\n",
        "\n",
        "    elif (l + u + d + s) >= 3 and n >= 6:\n",
        "        strength = \"Moderate\"\n",
        "\n",
        "    elif (l + u + d + s) >= 2 and n >= 4:\n",
        "        strength = \"Weak\"\n",
        "\n",
        "    else:\n",
        "        strength = \"Very Weak\"\n",
        "\n",
        "    print(f\"Your password is classified as: {strength}\")\n",
        "\n",
        "    # Suggest stronger passwords if not already strong\n",
        "    if strength != \"Strong\":\n",
        "        print(\"\\nSuggested Passwords:\")\n",
        "\n",
        "        for _ in range(5):\n",
        "            suggest = suggester(l, u, d, s, p)\n",
        "            need = max(0, 8 - len(suggest))  # Ensure minimum length of 8\n",
        "\n",
        "            if need > 0:\n",
        "                suggest = add_char(suggest, need)\n",
        "\n",
        "            print(suggest)\n",
        "\n",
        "\n",
        "# Take user input\n",
        "password = input(\"Enter a password: \")\n",
        "gen_password(len(password), password)\n"
      ]
    },
    {
      "cell_type": "code",
      "execution_count": null,
      "id": "4407118d-44b1-4a1b-b6d6-d769ee075c76",
      "metadata": {
        "id": "4407118d-44b1-4a1b-b6d6-d769ee075c76"
      },
      "outputs": [],
      "source": [
        "\"\"\"\n",
        "Time & Space : O(n)\n",
        "where n = length of password\n",
        "\"\"\""
      ]
    }
  ],
  "metadata": {
    "kernelspec": {
      "display_name": "Python 3 (ipykernel)",
      "language": "python",
      "name": "python3"
    },
    "language_info": {
      "codemirror_mode": {
        "name": "ipython",
        "version": 3
      },
      "file_extension": ".py",
      "mimetype": "text/x-python",
      "name": "python",
      "nbconvert_exporter": "python",
      "pygments_lexer": "ipython3",
      "version": "3.11.7"
    },
    "colab": {
      "provenance": []
    }
  },
  "nbformat": 4,
  "nbformat_minor": 5
}