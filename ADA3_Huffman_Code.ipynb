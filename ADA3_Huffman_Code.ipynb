{
  "nbformat": 4,
  "nbformat_minor": 0,
  "metadata": {
    "colab": {
      "provenance": []
    },
    "kernelspec": {
      "name": "python3",
      "display_name": "Python 3"
    },
    "language_info": {
      "name": "python"
    }
  },
  "cells": [
    {
      "cell_type": "code",
      "execution_count": 6,
      "metadata": {
        "colab": {
          "base_uri": "https://localhost:8080/"
        },
        "id": "cypOQccYX6yr",
        "outputId": "9452f37f-1e09-4321-f450-9f9046cd3a37"
      },
      "outputs": [
        {
          "output_type": "stream",
          "name": "stdout",
          "text": [
            "\n",
            "The list:\n",
            "['a', 'b', 'c', 'd', 'n1', 'e', 'f', 'n2', 'n3', 'n4', 'n5']\n",
            "\n",
            "The frequencies:\n",
            "{'a': 11, 'b': 12, 'c': 13, 'd': 14, 'e': 24, 'f': 26, 'n1': 23, 'n2': 27, 'n3': 47, 'n4': 53, 'n5': 100}\n",
            "\n",
            "The nodes:\n",
            "{'a': (), 'b': (), 'c': (), 'd': (), 'e': (), 'f': (), 'n1': ('a', 'b'), 'n2': ('c', 'd'), 'n3': ('n1', 'e'), 'n4': ('f', 'n2'), 'n5': ('n3', 'n4')}\n",
            "a : 0000\n",
            "b : 0001\n",
            "c : 0110\n",
            "d : 0111\n",
            "e : 001\n",
            "f : 010\n"
          ]
        }
      ],
      "source": [
        "original_l1=['a','b','c','d','e','f']\n",
        "l1=['a','b','c','d','e','f']\n",
        "freq={\n",
        "    'a':11,\n",
        "    'b':12,\n",
        "    'c':13,\n",
        "    'd':14,\n",
        "    'e':24,\n",
        "    'f':26,\n",
        "}\n",
        "nodes={\n",
        "    'a':(),\n",
        "    'b':(),\n",
        "    'c':(),\n",
        "    'd':(),\n",
        "    'e':(),\n",
        "    'f':(),\n",
        "}\n",
        "def placeIn(x,xfreq,l1):\n",
        "    i=0\n",
        "    while i<len(l1) and freq[l1[i]]<xfreq:\n",
        "        i+=1\n",
        "    l1.insert(i,x)\n",
        "    freq[x]=xfreq\n",
        "\n",
        "def generateTree(l1,freq):\n",
        "    i=0\n",
        "    temp=1\n",
        "    while i<len(l1)-1:\n",
        "        nodes['n'+str(temp)]=(l1[i],l1[i+1])\n",
        "        placeIn('n'+str(temp),freq[l1[i]]+freq[l1[i+1]],l1)\n",
        "        temp+=1\n",
        "        i+=2\n",
        "\n",
        "def findCodes(node,parent_code,initial):\n",
        "    ans[node]=parent_code+initial\n",
        "    if len(nodes[node])==2:\n",
        "        findCodes(nodes[node][0],ans[node],'0')\n",
        "        findCodes(nodes[node][1],ans[node],'1')\n",
        "    if len(nodes[node])==1:\n",
        "        findCodes(nodes[node][0],ans[node],'0')\n",
        "\n",
        "l1.sort(key=lambda x: freq[x])\n",
        "generateTree(l1,freq)\n",
        "\n",
        "print(\"\\nThe list:\")\n",
        "print(l1)\n",
        "print(\"\\nThe frequencies:\")\n",
        "print(freq)\n",
        "print(\"\\nThe nodes:\")\n",
        "print(nodes)\n",
        "ans={}\n",
        "findCodes(list(nodes.keys())[-1],\"\",\"0\")\n",
        "for node in original_l1:\n",
        "    print(node+\" : \"+ans[node])\n"
      ]
    },
    {
      "cell_type": "code",
      "source": [
        "# Alternative Code : A Huffman Tree Node\n",
        "import heapq\n",
        "\n",
        "\n",
        "class node:\n",
        "\tdef __init__(self, freq, symbol, left=None, right=None):\n",
        "\t\t# frequency of symbol\n",
        "\t\tself.freq = freq\n",
        "\n",
        "\t\t# symbol name (character)\n",
        "\t\tself.symbol = symbol\n",
        "\n",
        "\t\t# node left of current node\n",
        "\t\tself.left = left\n",
        "\n",
        "\t\t# node right of current node\n",
        "\t\tself.right = right\n",
        "\n",
        "\t\t# tree direction (0/1)\n",
        "\t\tself.huff = ''\n",
        "\n",
        "\tdef __lt__(self, nxt):\n",
        "\t\treturn self.freq < nxt.freq\n",
        "\n",
        "\n",
        "# utility function to print huffman\n",
        "# codes for all symbols in the newly\n",
        "# created Huffman tree\n",
        "def printNodes(node, val=''):\n",
        "\n",
        "\t# huffman code for current node\n",
        "\tnewVal = val + str(node.huff)\n",
        "\n",
        "\t# if node is not an edge node\n",
        "\t# then traverse inside it\n",
        "\tif(node.left):\n",
        "\t\tprintNodes(node.left, newVal)\n",
        "\tif(node.right):\n",
        "\t\tprintNodes(node.right, newVal)\n",
        "\n",
        "\t\t# if node is edge node then\n",
        "\t\t# display its huffman code\n",
        "\tif(not node.left and not node.right):\n",
        "\t\tprint(f\"{node.symbol} -> {newVal}\")\n",
        "\n",
        "\n",
        "# characters for huffman tree\n",
        "chars = ['a', 'b', 'c', 'd', 'e', 'f']\n",
        "\n",
        "# frequency of characters\n",
        "freq = [5, 9, 12, 13, 16, 45]\n",
        "\n",
        "# list containing unused nodes\n",
        "nodes = []\n",
        "\n",
        "# converting characters and frequencies\n",
        "# into huffman tree nodes\n",
        "for x in range(len(chars)):\n",
        "\theapq.heappush(nodes, node(freq[x], chars[x]))\n",
        "\n",
        "while len(nodes) > 1:\n",
        "\n",
        "\t# sort all the nodes in ascending order\n",
        "\t# based on their frequency\n",
        "\tleft = heapq.heappop(nodes)\n",
        "\tright = heapq.heappop(nodes)\n",
        "\n",
        "\t# assign directional value to these nodes\n",
        "\tleft.huff = 0\n",
        "\tright.huff = 1\n",
        "\n",
        "\t# combine the 2 smallest nodes to create\n",
        "\t# new node as their parent\n",
        "\tnewNode = node(left.freq+right.freq, left.symbol+right.symbol, left, right)\n",
        "\n",
        "\theapq.heappush(nodes, newNode)\n",
        "\n",
        "# Huffman Tree is ready!\n",
        "printNodes(nodes[0])\n"
      ],
      "metadata": {
        "colab": {
          "base_uri": "https://localhost:8080/",
          "height": 70
        },
        "id": "ve6FOWvlaLXG",
        "outputId": "26a3aa5f-aa0e-4f5b-86c9-3ac9188b1e0b"
      },
      "execution_count": 5,
      "outputs": [
        {
          "output_type": "execute_result",
          "data": {
            "text/plain": [
              "'\\nSpace Complexity\\nDistance Array:\\n\\nThe algorithm maintains a single array dist of size n to store the shortest distances.\\nGraph Representation:\\n\\nThe graph is represented as an adjacency matrix, which takes O(n square) space.\\nThus, the total space complexity is: O(n square)\\n\\nTime complexity : O(n cube) \\nas total iterations for relaxation are (n-1)(n square)\\n'"
            ],
            "application/vnd.google.colaboratory.intrinsic+json": {
              "type": "string"
            }
          },
          "metadata": {},
          "execution_count": 5
        }
      ]
    },
    {
      "cell_type": "code",
      "source": [
        "\"\"\"\n",
        "Time complexity: O(nlogn) where n is the number of unique characters. If there are n nodes, extractMin() is called 2*(n – 1) times. extractMin() takes O(logn) time as it calls minHeapify(). So, the overall complexity is O(nlogn).\n",
        "If the input array is sorted, there exists a linear time algorithm. We will soon be discussing this in our next post.\n",
        "\n",
        "Space complexity :- O(N)\n",
        "\"\"\""
      ],
      "metadata": {
        "id": "cIqWi1lmfeWg"
      },
      "execution_count": null,
      "outputs": []
    }
  ]
}