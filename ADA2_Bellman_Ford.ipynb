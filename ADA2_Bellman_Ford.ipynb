{
  "nbformat": 4,
  "nbformat_minor": 0,
  "metadata": {
    "colab": {
      "provenance": []
    },
    "kernelspec": {
      "name": "python3",
      "display_name": "Python 3"
    },
    "language_info": {
      "name": "python"
    }
  },
  "cells": [
    {
      "cell_type": "code",
      "execution_count": 2,
      "metadata": {
        "id": "cypOQccYX6yr"
      },
      "outputs": [],
      "source": [
        "graph=[[0,-1,4,'-','-'],\n",
        "       ['-',0,3,2,2],\n",
        "       ['-','-',0,'-','-'],\n",
        "       ['-',1,3,0,'-'],\n",
        "       ['-','-','-',-3,0]]"
      ]
    },
    {
      "cell_type": "code",
      "source": [
        "def bellman_ford(graph,n,s):\n",
        "    dist=[]\n",
        "    for i in range(0,n):\n",
        "        dist.append(999)\n",
        "    dist[s]=0\n",
        "    for _ in range(n-1):\n",
        "       for u in range(n):\n",
        "          for v in range(n):\n",
        "             if graph[u][v]!='-'  and dist[u]+graph[u][v]<dist[v]:\n",
        "                dist[v]=dist[u]+graph[u][v]\n",
        "    for u in range(n):\n",
        "       for v in range(n):\n",
        "          if graph[u][v]!='-'  and dist[u]+graph[u][v]<dist[v]:\n",
        "             print(\"Graph contains negative weight cycle,Bellman ford cannot be applied\")\n",
        "             return\n",
        "    print(\"Node     Distance from source\")\n",
        "    print(\"------------------------------\")\n",
        "    for i in range(0,n):\n",
        "        print(f\"{i}     {dist[i]}\")\n",
        "    return"
      ],
      "metadata": {
        "id": "P5iWRH8vcMnb"
      },
      "execution_count": 3,
      "outputs": []
    },
    {
      "cell_type": "code",
      "source": [
        "if __name__==\"__main__\":\n",
        "    bellman_ford(graph,5,0)"
      ],
      "metadata": {
        "colab": {
          "base_uri": "https://localhost:8080/"
        },
        "id": "wIS_AdZmcMz8",
        "outputId": "b348d178-89cd-4a99-d841-b15f4be0510b"
      },
      "execution_count": 4,
      "outputs": [
        {
          "output_type": "stream",
          "name": "stdout",
          "text": [
            "Node     Distance from source\n",
            "------------------------------\n",
            "0     0\n",
            "1     -1\n",
            "2     1\n",
            "3     -2\n",
            "4     1\n"
          ]
        }
      ]
    },
    {
      "cell_type": "code",
      "source": [
        "\"\"\"\n",
        "Space Complexity\n",
        "Distance Array:\n",
        "\n",
        "The algorithm maintains a single array dist of size n to store the shortest distances.\n",
        "Graph Representation:\n",
        "\n",
        "The graph is represented as an adjacency matrix, which takes O(n square) space.\n",
        "Thus, the total space complexity is: O(n square)\n",
        "\n",
        "Time complexity : O(n cube)\n",
        "as total iterations for relaxation are (n-1)(n square)\n",
        "\"\"\""
      ],
      "metadata": {
        "colab": {
          "base_uri": "https://localhost:8080/",
          "height": 70
        },
        "id": "ve6FOWvlaLXG",
        "outputId": "26a3aa5f-aa0e-4f5b-86c9-3ac9188b1e0b"
      },
      "execution_count": 5,
      "outputs": [
        {
          "output_type": "execute_result",
          "data": {
            "text/plain": [
              "'\\nSpace Complexity\\nDistance Array:\\n\\nThe algorithm maintains a single array dist of size n to store the shortest distances.\\nGraph Representation:\\n\\nThe graph is represented as an adjacency matrix, which takes O(n square) space.\\nThus, the total space complexity is: O(n square)\\n\\nTime complexity : O(n cube) \\nas total iterations for relaxation are (n-1)(n square)\\n'"
            ],
            "application/vnd.google.colaboratory.intrinsic+json": {
              "type": "string"
            }
          },
          "metadata": {},
          "execution_count": 5
        }
      ]
    },
    {
      "cell_type": "code",
      "source": [
        "##Code 2 alternative\n",
        "def bellman_ford(graph, source):\n",
        "    # Step 1: Initialize distances\n",
        "    distances = {vertex: float('inf') for vertex in graph}\n",
        "    distances[source] = 0\n",
        "\n",
        "    # Step 2: Relax edges |V| - 1 times\n",
        "    for _ in range(len(graph) - 1):\n",
        "        for u in graph:\n",
        "            for v, weight in graph[u].items():\n",
        "                if distances[u] != float('inf') and distances[u] + weight < distances[v]:\n",
        "                    distances[v] = distances[u] + weight\n",
        "\n",
        "    # Step 3: Check for negative weight cycles\n",
        "    for u in graph:\n",
        "        for v, weight in graph[u].items():\n",
        "            if distances[u] != float('inf') and distances[u] + weight < distances[v]:\n",
        "                raise ValueError(\"Graph contains negative weight cycle\")\n",
        "\n",
        "    return distances\n",
        "\n",
        "\n",
        "# Example\n",
        "graph = {\n",
        "    'A': {'B': -1, 'C': 4},\n",
        "    'B': {'C': 3, 'D': 2, 'E': 2},\n",
        "    'C': {},\n",
        "    'D': {'B': 1, 'C': 5},\n",
        "    'E': {'D': -3}\n",
        "}\n",
        "source = 'A'\n",
        "\n",
        "shortest_distances = bellman_ford(graph, source)\n",
        "print(shortest_distances)"
      ],
      "metadata": {
        "id": "pQiiAsEhfBXN"
      },
      "execution_count": null,
      "outputs": []
    },
    {
      "cell_type": "code",
      "source": [
        "\"\"\"\n",
        "Time complexity = O(V.E)\n",
        "dense graphs E=V*V hence time = O(V cube)\n",
        "sparse graphs V+E hence O(V square)\n",
        "\n",
        "Space = O(V+E)\n",
        "\"\"\""
      ],
      "metadata": {
        "id": "cIqWi1lmfeWg"
      },
      "execution_count": null,
      "outputs": []
    }
  ]
}