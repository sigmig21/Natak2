{
  "nbformat": 4,
  "nbformat_minor": 0,
  "metadata": {
    "colab": {
      "provenance": []
    },
    "kernelspec": {
      "name": "python3",
      "display_name": "Python 3"
    },
    "language_info": {
      "name": "python"
    }
  },
  "cells": [
    {
      "cell_type": "code",
      "execution_count": 1,
      "metadata": {
        "colab": {
          "base_uri": "https://localhost:8080/"
        },
        "id": "cypOQccYX6yr",
        "outputId": "eeb8b72b-4f84-43c6-e029-3ccd5fea2c3d"
      },
      "outputs": [
        {
          "output_type": "stream",
          "name": "stdout",
          "text": [
            "Enter 1st number352120\n",
            "Enter 2nd number146123\n",
            "multilpication of two numbers is:\n",
            "51452830760\n"
          ]
        }
      ],
      "source": [
        "def karatsuba(num1,num2):\n",
        "  if len(str(num1))==1 or len(str(num2))==1:\n",
        "    return num1*num2\n",
        "  n1=len(str(num1))\n",
        "  n2=len(str(num2))\n",
        "  m=min(n1,n2)\n",
        "  x2=num1%(10**(m//2))\n",
        "  x1=(num1)//(10**(m//2))\n",
        "  y2=num2%(10**(m//2))\n",
        "  y1=(num2)//(10**(m//2))\n",
        "  ac=karatsuba(x1,y1)\n",
        "  bd=karatsuba(x2,y2)\n",
        "  adbc=karatsuba((x1+x2),(y1+y2))-ac-bd\n",
        "  return ((ac*(10**(2*(m//2))))+((adbc)*(10**(m//2)))+bd)\n",
        "if __name__==\"__main__\":\n",
        "  num1=int(input('Enter 1st number'))\n",
        "  num2=int(input('Enter 2nd number'))\n",
        "  print(\"multilpication of two numbers is:\")\n",
        "  print(karatsuba(num1,num2))"
      ]
    },
    {
      "cell_type": "code",
      "source": [
        "\"\"\"\n",
        "Space complexity = O(log n) for recursion stack\n",
        "Intermediate storage is O(1) for each level of recursion\n",
        "Time = O(n raised to log3) = n raised to 1.585\n",
        "a=3 number of recursive calls\n",
        "b=2 subproblem size is n/2\n",
        "\"\"\""
      ],
      "metadata": {
        "id": "ve6FOWvlaLXG"
      },
      "execution_count": null,
      "outputs": []
    }
  ]
}