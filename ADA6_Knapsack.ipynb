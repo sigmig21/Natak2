{
  "cells": [
    {
      "cell_type": "code",
      "execution_count": 3,
      "id": "6a9fc59b-31e8-4654-bb2b-16c9ac0a5e27",
      "metadata": {
        "colab": {
          "base_uri": "https://localhost:8080/"
        },
        "id": "6a9fc59b-31e8-4654-bb2b-16c9ac0a5e27",
        "outputId": "c2a146c2-4ba3-4e29-e7a6-43f8b82beb42"
      },
      "outputs": [
        {
          "name": "stdout",
          "output_type": "stream",
          "text": [
            "\n",
            "--- 0-1 Knapsack Problem ---\n",
            "1. Run Knapsack\n",
            "2. Exit\n",
            "Enter your choice: 1\n",
            "Enter the number of items: 4\n",
            "Enter profits of the items (space-separated): 60 100 120 180\n",
            "Enter weights of the items (space-separated): 10 20 30 15\n",
            "Enter the capacity of the knapsack: 50\n",
            "The maximum value that can be put in knapsack of capacity 50 is: 340\n",
            "Items included in the knapsack: 1, 2, 4\n",
            "\n",
            "--- 0-1 Knapsack Problem ---\n",
            "1. Run Knapsack\n",
            "2. Exit\n",
            "Enter your choice: 2\n"
          ]
        }
      ],
      "source": [
        "def knapSack(W, wt, val, n):\n",
        "    # Create a 2D DP table\n",
        "    K = [[0 for x in range(W + 1)] for x in range(n + 1)]\n",
        "\n",
        "    # Fill the DP table\n",
        "    for i in range(n + 1):\n",
        "        for w in range(W + 1):\n",
        "            if i == 0 or w == 0:\n",
        "                K[i][w] = 0\n",
        "            elif wt[i - 1] <= w:\n",
        "                K[i][w] = max(val[i - 1] + K[i - 1][w - wt[i - 1]], K[i - 1][w])\n",
        "            else:\n",
        "                K[i][w] = K[i - 1][w]\n",
        "\n",
        "    # Backtrack to find the items included in the knapsack\n",
        "    items_included = []\n",
        "    w = W\n",
        "    for i in range(n, 0, -1):\n",
        "        if K[i][w] != K[i - 1][w]:  # Item `i-1` is included\n",
        "            items_included.append(i)  # Add item index (1-based)\n",
        "            w -= wt[i - 1]\n",
        "\n",
        "    return K[n][W], items_included[::-1]  # Reverse to list items in ascending order\n",
        "\n",
        "\n",
        "def main():\n",
        "    while True:\n",
        "        print(\"\\n--- 0-1 Knapsack Problem ---\")\n",
        "        print(\"1. Run Knapsack\")\n",
        "        print(\"2. Exit\")\n",
        "\n",
        "        ch = input(\"Enter your choice: \")\n",
        "\n",
        "        if ch == '1':\n",
        "            n = int(input(\"Enter the number of items: \"))\n",
        "            val = list(map(int, input(\"Enter profits of the items (space-separated): \").split()))\n",
        "            wt = list(map(int, input(\"Enter weights of the items (space-separated): \").split()))\n",
        "            W = int(input(\"Enter the capacity of the knapsack: \"))\n",
        "\n",
        "            if len(val) != n or len(wt) != n:\n",
        "                print(\"Error: The number of profits and weights must match the number of items.\")\n",
        "                continue\n",
        "\n",
        "            max_profit, items_included = knapSack(W, wt, val, n)\n",
        "            print(f\"The maximum value that can be put in knapsack of capacity {W} is: {max_profit}\")\n",
        "            print(f\"Items included in the knapsack: {', '.join(map(str, items_included))}\")\n",
        "\n",
        "        elif ch == '2':\n",
        "            break\n",
        "        else:\n",
        "            print(\"Invalid choice\")\n",
        "\n",
        "\n",
        "if __name__ == '__main__':\n",
        "    main()\n"
      ]
    },
    {
      "cell_type": "code",
      "execution_count": 5,
      "id": "31ecea68-8d10-46f6-b5e4-1aeb9765cff4",
      "metadata": {
        "colab": {
          "base_uri": "https://localhost:8080/",
          "height": 36
        },
        "id": "31ecea68-8d10-46f6-b5e4-1aeb9765cff4",
        "outputId": "2f05a405-fdb1-44f7-b3dd-58f8c0417191"
      },
      "outputs": [
        {
          "output_type": "execute_result",
          "data": {
            "text/plain": [
              "'\\nTime and space = O(n*W)\\nn=number of items\\nW=capacity of knapsack\\n'"
            ],
            "application/vnd.google.colaboratory.intrinsic+json": {
              "type": "string"
            }
          },
          "metadata": {},
          "execution_count": 5
        }
      ],
      "source": [
        "\"\"\"\n",
        "Time and space = O(n*W)\n",
        "n=number of items\n",
        "W=capacity of knapsack\n",
        "\"\"\""
      ]
    },
    {
      "cell_type": "code",
      "source": [],
      "metadata": {
        "id": "ZLBZusL1LluV"
      },
      "id": "ZLBZusL1LluV",
      "execution_count": null,
      "outputs": []
    }
  ],
  "metadata": {
    "kernelspec": {
      "display_name": "Python 3 (ipykernel)",
      "language": "python",
      "name": "python3"
    },
    "language_info": {
      "codemirror_mode": {
        "name": "ipython",
        "version": 3
      },
      "file_extension": ".py",
      "mimetype": "text/x-python",
      "name": "python",
      "nbconvert_exporter": "python",
      "pygments_lexer": "ipython3",
      "version": "3.11.7"
    },
    "colab": {
      "provenance": []
    }
  },
  "nbformat": 4,
  "nbformat_minor": 5
}