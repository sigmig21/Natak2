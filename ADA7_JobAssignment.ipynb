{
  "cells": [
    {
      "cell_type": "code",
      "execution_count": null,
      "id": "a9e52ff3-b2cc-4dc8-914e-1ffca6a2f840",
      "metadata": {
        "id": "a9e52ff3-b2cc-4dc8-914e-1ffca6a2f840",
        "outputId": "014f6550-e637-4c70-8399-abeea097d899"
      },
      "outputs": [
        {
          "name": "stdout",
          "output_type": "stream",
          "text": [
            "Job Assignment Problem\n"
          ]
        },
        {
          "name": "stdin",
          "output_type": "stream",
          "text": [
            "Enter num of workers:  4\n",
            "Enter num of jobs:  4\n"
          ]
        },
        {
          "name": "stdout",
          "output_type": "stream",
          "text": [
            "Enter cost mat row by row (space-separated values):\n"
          ]
        },
        {
          "name": "stdin",
          "output_type": "stream",
          "text": [
            "Row 1:  9 2 7 8\n",
            "Row 2:  6 4 3 7\n",
            "Row 3:  5 8 1 8\n",
            "Row 4:  7 6 2 4\n"
          ]
        },
        {
          "name": "stdout",
          "output_type": "stream",
          "text": [
            "\n",
            "Calculating Optimal Assignment...\n",
            "Assign Worker A to Job 2\n",
            "Assign Worker B to Job 1\n",
            "Assign Worker C to Job 3\n",
            "Assign Worker D to Job 4\n",
            "\n",
            "Optimal Cost is: 13\n"
          ]
        }
      ],
      "source": [
        "import heapq\n",
        "import copy\n",
        "\n",
        "class Node:\n",
        "\n",
        "    def __init__(self, x, y, assigned, parent):\n",
        "\n",
        "        self.parent = parent\n",
        "        self.pathCost = 0\n",
        "        self.cost = 0\n",
        "        self.workerID = x\n",
        "        self.jobID = y\n",
        "        self.assigned = copy.deepcopy(assigned)\n",
        "\n",
        "        if y != -1:\n",
        "            self.assigned[y] = True\n",
        "\n",
        "    def __lt__(self, other):\n",
        "\n",
        "        return self.cost < other.cost  # Compare nodes based on their cost\n",
        "\n",
        "class CustomHeap:\n",
        "\n",
        "    def __init__(self):\n",
        "        self.heap = []\n",
        "\n",
        "    def push(self, node):\n",
        "        heapq.heappush(self.heap, node)\n",
        "\n",
        "    def pop(self):\n",
        "\n",
        "        if self.heap:\n",
        "            return heapq.heappop(self.heap)\n",
        "        return None\n",
        "\n",
        "def new_node(x, y, assigned, parent):\n",
        "    return Node(x, y, assigned, parent)\n",
        "\n",
        "def calc_cost(cost_mat, x, y, assigned, N):\n",
        "\n",
        "    cost = 0\n",
        "    avail = [True] * N\n",
        "\n",
        "    for i in range(x + 1, N):\n",
        "        min_val, min_index = float('inf'), -1\n",
        "\n",
        "        for j in range(N):\n",
        "            if not assigned[j] and avail[j] and cost_mat[i][j] < min_val:\n",
        "                min_index = j\n",
        "                min_val = cost_mat[i][j]\n",
        "        cost += min_val\n",
        "        avail[min_index] = False\n",
        "\n",
        "    return cost\n",
        "\n",
        "def print_assig(min_node):\n",
        "\n",
        "    if min_node.parent is None:\n",
        "        return\n",
        "\n",
        "    print_assig(min_node.parent)\n",
        "    print(f\"Assign Worker {chr(min_node.workerID + ord('A'))} to Job {min_node.jobID + 1}\")\n",
        "\n",
        "def find_min_cost(cost_mat, N):\n",
        "\n",
        "    pq = CustomHeap()\n",
        "    assigned = [False] * N\n",
        "    root = new_node(-1, -1, assigned, None)\n",
        "    root.pathCost = root.cost = 0\n",
        "    root.workerID = -1\n",
        "    pq.push(root)\n",
        "\n",
        "    while True:\n",
        "        min_node = pq.pop()\n",
        "        i = min_node.workerID + 1\n",
        "\n",
        "        if i == N:\n",
        "            print_assig(min_node)\n",
        "            return min_node.cost\n",
        "\n",
        "        for j in range(N):\n",
        "\n",
        "            if not min_node.assigned[j]:\n",
        "                child = new_node(i, j, min_node.assigned, min_node)\n",
        "                child.pathCost = min_node.pathCost + cost_mat[i][j]\n",
        "                child.cost = child.pathCost + calc_cost(cost_mat, i, j, child.assigned, N)\n",
        "                pq.push(child)\n",
        "\n",
        "if __name__ == \"__main__\":\n",
        "\n",
        "    print(\"Job Assignment Problem\")\n",
        "    num_workers = int(input(\"Enter num of workers: \"))\n",
        "    num_jobs = int(input(\"Enter num of jobs: \"))\n",
        "\n",
        "    if num_workers != num_jobs:\n",
        "        print(\"Num of workers and jobs must be equal.\")\n",
        "\n",
        "    else:\n",
        "        print(\"Enter cost mat row by row (space-separated values):\")\n",
        "        cost_mat = []\n",
        "\n",
        "        for i in range(num_workers):\n",
        "            row = list(map(int, input(f\"Row {i + 1}: \").split()))\n",
        "            cost_mat.append(row)\n",
        "\n",
        "        print(\"\\nCalculating Optimal Assignment...\")\n",
        "        optimal_cost = find_min_cost(cost_mat, num_workers)\n",
        "\n",
        "        if optimal_cost is not None:\n",
        "            print(f\"\\nOptimal Cost is: {optimal_cost}\")\n",
        "        else:\n",
        "            print(\"\\nNo optimal solution found.\")\n"
      ]
    },
    {
      "cell_type": "code",
      "execution_count": null,
      "id": "f9078d30-dc2e-406f-92c7-35b7cd3550a0",
      "metadata": {
        "id": "f9078d30-dc2e-406f-92c7-35b7cd3550a0"
      },
      "outputs": [],
      "source": [
        "\"\"\"\n",
        "Time and Space Complexity : O(N^2 log N)\n",
        "\"\"\""
      ]
    }
  ],
  "metadata": {
    "kernelspec": {
      "display_name": "Python 3 (ipykernel)",
      "language": "python",
      "name": "python3"
    },
    "language_info": {
      "codemirror_mode": {
        "name": "ipython",
        "version": 3
      },
      "file_extension": ".py",
      "mimetype": "text/x-python",
      "name": "python",
      "nbconvert_exporter": "python",
      "pygments_lexer": "ipython3",
      "version": "3.11.7"
    },
    "colab": {
      "provenance": []
    }
  },
  "nbformat": 4,
  "nbformat_minor": 5
}