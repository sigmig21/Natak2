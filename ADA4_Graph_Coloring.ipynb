{
  "nbformat": 4,
  "nbformat_minor": 0,
  "metadata": {
    "colab": {
      "provenance": []
    },
    "kernelspec": {
      "name": "python3",
      "display_name": "Python 3"
    },
    "language_info": {
      "name": "python"
    }
  },
  "cells": [
    {
      "cell_type": "code",
      "execution_count": null,
      "metadata": {
        "id": "p_f5pQDJ0W4Y"
      },
      "outputs": [],
      "source": [
        "V = 4\n",
        "\n",
        "def print_solution(color):\n",
        "    print(\"Solution Exists: Following are the assigned colors\")\n",
        "    print(\" \".join(map(str, color)))"
      ]
    },
    {
      "cell_type": "code",
      "source": [
        "def is_safe(v, graph, color, c):\n",
        "\n",
        "    for i in range(V):\n",
        "        if graph[v][i] and c == color[i]:\n",
        "            return False\n",
        "    return True"
      ],
      "metadata": {
        "id": "QyQslCa60kQ9"
      },
      "execution_count": null,
      "outputs": []
    },
    {
      "cell_type": "code",
      "source": [
        "def graph_coloring_util(graph, m, color, v):\n",
        "\n",
        "    if v == V:\n",
        "        return True\n",
        "\n",
        "    for c in range(1, m + 1):\n",
        "\n",
        "        if is_safe(v, graph, color, c):\n",
        "            color[v] = c\n",
        "\n",
        "\n",
        "            if graph_coloring_util(graph, m, color, v + 1):\n",
        "                return True\n",
        "\n",
        "\n",
        "            color[v] = 0\n",
        "\n",
        "\n",
        "    return False"
      ],
      "metadata": {
        "id": "Df9fUJCN03Hs"
      },
      "execution_count": null,
      "outputs": []
    },
    {
      "cell_type": "code",
      "source": [
        "def graph_coloring(graph, m):\n",
        "    color = [0] * V\n",
        "\n",
        "\n",
        "    if not graph_coloring_util(graph, m, color, 0):\n",
        "        print(\"Solution does not exist\")\n",
        "        return False\n",
        "\n",
        "\n",
        "    print_solution(color)\n",
        "    return True"
      ],
      "metadata": {
        "id": "T_kkY3el1FBp"
      },
      "execution_count": null,
      "outputs": []
    },
    {
      "cell_type": "code",
      "source": [
        "def m_coloring(graph, m):\n",
        "\n",
        "    color = [0] * V\n",
        "    return graph_coloring(graph, m)"
      ],
      "metadata": {
        "id": "pdtVFEVR1ZzM"
      },
      "execution_count": null,
      "outputs": []
    },
    {
      "cell_type": "code",
      "source": [
        "def get_coordinates(graph):\n",
        "\n",
        "    print(\"Vertices Coordinates:\")\n",
        "    for v in range(V):\n",
        "        print(f\"Vertex {v}: Coordinates (x, y)\")"
      ],
      "metadata": {
        "id": "AcsQIoFQ1eSs"
      },
      "execution_count": null,
      "outputs": []
    },
    {
      "cell_type": "code",
      "source": [
        "def print_menu():\n",
        "\n",
        "    print(\"\\nGraph Coloring Menu\")\n",
        "    print(\"1. Check m-coloring\")\n",
        "    print(\"2. Display Graph Coordinates\")\n",
        "    print(\"3. Exit\")\n"
      ],
      "metadata": {
        "id": "89CyHtB11jYM"
      },
      "execution_count": null,
      "outputs": []
    },
    {
      "cell_type": "code",
      "source": [
        "def main():\n",
        "    graph = [\n",
        "        [0, 1, 1, 1],\n",
        "        [1, 0, 1, 0],\n",
        "        [1, 1, 0, 1],\n",
        "        [1, 0, 1, 0],\n",
        "    ]\n",
        "\n",
        "    while True:\n",
        "        print_menu()\n",
        "        choice = input(\"Enter your choice: \")\n",
        "\n",
        "        if choice == '1':\n",
        "            m = int(input(\"Enter the number of colors: \"))\n",
        "            if not m_coloring(graph, m):\n",
        "                print(\"No solution found with the given number of colors.\")\n",
        "        elif choice == '2':\n",
        "            get_coordinates(graph)\n",
        "        elif choice == '3':\n",
        "            print(\"Exiting the program.\")\n",
        "            break\n",
        "        else:\n",
        "            print(\"Invalid choice. Please try again.\")\n",
        "\n",
        "\n",
        "if __name__ == \"__main__\":\n",
        "    main()"
      ],
      "metadata": {
        "colab": {
          "base_uri": "https://localhost:8080/"
        },
        "id": "bgcOQOB31nn8",
        "outputId": "8f0373c5-07a9-4a77-886c-f898044cfb82"
      },
      "execution_count": null,
      "outputs": [
        {
          "output_type": "stream",
          "name": "stdout",
          "text": [
            "\n",
            "Graph Coloring Menu\n",
            "1. Check m-coloring\n",
            "2. Display Graph Coordinates\n",
            "3. Exit\n",
            "Enter your choice: 1\n",
            "Enter the number of colors: 3\n",
            "Solution Exists: Following are the assigned colors\n",
            "1 2 3 2\n",
            "\n",
            "Graph Coloring Menu\n",
            "1. Check m-coloring\n",
            "2. Display Graph Coordinates\n",
            "3. Exit\n"
          ]
        }
      ]
    },
    {
      "cell_type": "code",
      "source": [
        "class Graph:\n",
        "    def __init__(self, vertices):\n",
        "        self.V = vertices  # Number of vertices\n",
        "        self.graph = [[0 for _ in range(vertices)] for _ in range(vertices)]\n",
        "\n",
        "    def add_edge(self, u, v):\n",
        "        # Undirected graph, so set both [u][v] and [v][u] to 1\n",
        "        self.graph[u][v] = 1\n",
        "        self.graph[v][u] = 1\n",
        "\n",
        "    def is_safe(self, v, color, result):\n",
        "        # Check if the adjacent vertices have the same color\n",
        "        for i in range(self.V):\n",
        "            if self.graph[v][i] == 1 and result[i] == color:\n",
        "                return False\n",
        "        return True\n",
        "\n",
        "    def graph_coloring_util(self, m, result, v):\n",
        "        if v == self.V:  # All vertices are colored\n",
        "            return True\n",
        "\n",
        "        for color in range(m):  # Try all colors from 0 to m-1\n",
        "            if self.is_safe(v, color, result):\n",
        "                result[v] = color\n",
        "                if self.graph_coloring_util(m, result, v + 1):\n",
        "                    return True\n",
        "                result[v] = -1  # Backtrack\n",
        "\n",
        "        return False\n",
        "\n",
        "    def graph_coloring(self, m):\n",
        "        result = [-1] * self.V\n",
        "        if not self.graph_coloring_util(m, result, 0):\n",
        "            print(\"Solution does not exist\")\n",
        "            return False\n",
        "\n",
        "        print(\"Solution exists: Following are the assigned frequencies (colors)\")\n",
        "        for u in range(self.V):\n",
        "            print(f\"Station {u} --> Frequency {result[u]}\")\n",
        "        return True\n",
        "\n",
        "\n",
        "if __name__ == \"__main__\":\n",
        "    g = Graph(5)\n",
        "    g.add_edge(0, 1)\n",
        "    g.add_edge(0, 2)\n",
        "    g.add_edge(1, 2)\n",
        "    g.add_edge(1, 3)\n",
        "    g.add_edge(2, 4)\n",
        "\n",
        "    m = 3  # Number of available frequencies (colors)\n",
        "    g.graph_coloring(m)\n"
      ],
      "metadata": {
        "id": "t1zYKPhX1sBM",
        "colab": {
          "base_uri": "https://localhost:8080/"
        },
        "outputId": "51ef74c8-b81c-405e-f341-9ba96f8402e4"
      },
      "execution_count": 1,
      "outputs": [
        {
          "output_type": "stream",
          "name": "stdout",
          "text": [
            "Solution exists: Following are the assigned frequencies (colors)\n",
            "Station 0 --> Frequency 0\n",
            "Station 1 --> Frequency 1\n",
            "Station 2 --> Frequency 2\n",
            "Station 3 --> Frequency 0\n",
            "Station 4 --> Frequency 0\n"
          ]
        }
      ]
    },
    {
      "cell_type": "code",
      "source": [
        "\"\"\"\n",
        "Time complexity = O(V^M)\n",
        "Space complexity = O(V^2) for V*V adjacency matrix\n",
        "This is because each vertex V has M colour choices, and we try all combinations.\n",
        "\"\"\""
      ],
      "metadata": {
        "id": "3pguf6YUCUvh"
      },
      "execution_count": null,
      "outputs": []
    },
    {
      "cell_type": "code",
      "source": [
        "class Graph:\n",
        "    def __init__(self, vertices):\n",
        "        self.V = vertices\n",
        "        self.graph = []\n",
        "\n",
        "    def add_edge(self, u, v):\n",
        "        while len(self.graph) <= max(u, v):\n",
        "            self.graph.append([])\n",
        "\n",
        "        self.graph[u].append(v)\n",
        "        self.graph[v].append(u)\n",
        "\n",
        "    def greedy_coloring(self):\n",
        "        result = [-1] * self.V\n",
        "        result[0] = 0\n",
        "        available = [True] * self.V\n",
        "\n",
        "        for u in range(1, self.V):\n",
        "            # Mark unavailable colors for adjacent vertices\n",
        "            for i in self.graph[u]:\n",
        "                if result[i] != -1:\n",
        "                    available[result[i]] = False\n",
        "\n",
        "            # Find the first available color\n",
        "            color = 0\n",
        "            while color < self.V:\n",
        "                if available[color]:\n",
        "                    break\n",
        "                color += 1\n",
        "\n",
        "            # Assign the found color to the vertex u\n",
        "            result[u] = color\n",
        "\n",
        "            # Reset the available list for the next iteration\n",
        "            available = [True] * self.V\n",
        "\n",
        "        # Print the result\n",
        "        for u in range(self.V):\n",
        "            print(f\"Station {u} --> Frequency {result[u]}\")\n",
        "\n",
        "\n",
        "if __name__ == \"__main__\":\n",
        "    g = Graph(5)\n",
        "    g.add_edge(0, 1)\n",
        "    g.add_edge(0, 2)\n",
        "    g.add_edge(1, 2)\n",
        "    g.add_edge(1, 3)\n",
        "    g.add_edge(2, 4)\n",
        "    g.greedy_coloring()\n"
      ],
      "metadata": {
        "colab": {
          "base_uri": "https://localhost:8080/"
        },
        "id": "jmsjWCLfC1R0",
        "outputId": "6953d50e-becf-46de-950f-de33ef4f78c5"
      },
      "execution_count": 5,
      "outputs": [
        {
          "output_type": "stream",
          "name": "stdout",
          "text": [
            "Station 0 --> Frequency 0\n",
            "Station 1 --> Frequency 1\n",
            "Station 2 --> Frequency 2\n",
            "Station 3 --> Frequency 0\n",
            "Station 4 --> Frequency 0\n"
          ]
        }
      ]
    }
  ]
}